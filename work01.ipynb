{
 "cells": [
  {
   "cell_type": "markdown",
   "id": "52904425",
   "metadata": {},
   "source": [
    "11.\tСоздайте кортеж из 6 элементов разных типов данных и выведите на экран только те элементы, тип которых является числовым (int или float)."
   ]
  },
  {
   "cell_type": "code",
   "execution_count": 9,
   "id": "e403e768",
   "metadata": {},
   "outputs": [
    {
     "name": "stdout",
     "output_type": "stream",
     "text": [
      "(42, 'текст', 3.14, True, [1, 2, 3], -1.5)\n"
     ]
    }
   ],
   "source": [
    "# Создаём кортеж из 6 элементов разных типов данных\n",
    "my_tuple = (42, \"текст\", 3.14, True, [1, 2, 3], -1.5)\n",
    "print(my_tuple)"
   ]
  },
  {
   "cell_type": "code",
   "execution_count": 10,
   "id": "5296df9a",
   "metadata": {},
   "outputs": [
    {
     "name": "stdout",
     "output_type": "stream",
     "text": [
      "Числовые элементы (int или float):\n",
      "42\n",
      "3.14\n",
      "-1.5\n"
     ]
    }
   ],
   "source": [
    "# Проходим по элементам кортежа\n",
    "print(\"Числовые элементы (int или float):\")\n",
    "for element in my_tuple:\n",
    "    if isinstance(element, (int, float)) and not isinstance(element, bool):\n",
    "        print(element)"
   ]
  }
 ],
 "metadata": {
  "kernelspec": {
   "display_name": "Python 3",
   "language": "python",
   "name": "python3"
  },
  "language_info": {
   "codemirror_mode": {
    "name": "ipython",
    "version": 3
   },
   "file_extension": ".py",
   "mimetype": "text/x-python",
   "name": "python",
   "nbconvert_exporter": "python",
   "pygments_lexer": "ipython3",
   "version": "3.12.1"
  }
 },
 "nbformat": 4,
 "nbformat_minor": 5
}
