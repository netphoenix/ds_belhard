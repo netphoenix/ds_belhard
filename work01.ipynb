{
 "cells": [
  {
   "cell_type": "markdown",
   "id": "52904425",
   "metadata": {},
   "source": [
    "11. Создайте кортеж из 6 элементов разных типов данных и выведите на экран только те элементы, тип которых является числовым (int или float)."
   ]
  },
  {
   "cell_type": "code",
   "execution_count": 14,
   "id": "e403e768",
   "metadata": {},
   "outputs": [
    {
     "name": "stdout",
     "output_type": "stream",
     "text": [
      "(42, 'текст', 3.14, True, [1, 2, 3], -1.5)\n"
     ]
    }
   ],
   "source": [
    "# Создаём кортеж из 6 элементов разных типов данных\n",
    "my_tuple = (42, \"текст\", 3.14, True, [1, 2, 3], -1.5)\n",
    "print(my_tuple)"
   ]
  },
  {
   "cell_type": "code",
   "execution_count": 13,
   "id": "5296df9a",
   "metadata": {},
   "outputs": [
    {
     "name": "stdout",
     "output_type": "stream",
     "text": [
      "Числовые элементы (int или float):\n",
      "42\n",
      "3.14\n",
      "-1.5\n"
     ]
    }
   ],
   "source": [
    "# Проходим по элементам кортежа\n",
    "print(\"Числовые элементы (int или float):\")\n",
    "for element in my_tuple:\n",
    "    if isinstance(element, (int, float)) and not isinstance(element, bool):\n",
    "        print(element)"
   ]
  },
  {
   "cell_type": "code",
   "execution_count": 16,
   "id": "2f012b54",
   "metadata": {},
   "outputs": [
    {
     "name": "stdout",
     "output_type": "stream",
     "text": [
      "[42, 3.14, -1.5]\n"
     ]
    }
   ],
   "source": [
    "# Максимально короткий способ\n",
    "numbers = [x for x in my_tuple if isinstance(x, (int, float)) and not isinstance(x, bool)]\n",
    "print(numbers)"
   ]
  },
  {
   "cell_type": "markdown",
   "id": "2600d9ac",
   "metadata": {},
   "source": [
    "Алгоритм имеет линейную временную сложность O(N). Время выполнения алгоритма растёт пропорционально размеру входных данных N.\n",
    "Здесь один цикл for, который проходит по всем элементам кортежа. Количество итераций = N (длина кортежа)."
   ]
  }
 ],
 "metadata": {
  "kernelspec": {
   "display_name": "Python 3",
   "language": "python",
   "name": "python3"
  },
  "language_info": {
   "codemirror_mode": {
    "name": "ipython",
    "version": 3
   },
   "file_extension": ".py",
   "mimetype": "text/x-python",
   "name": "python",
   "nbconvert_exporter": "python",
   "pygments_lexer": "ipython3",
   "version": "3.12.1"
  }
 },
 "nbformat": 4,
 "nbformat_minor": 5
}
